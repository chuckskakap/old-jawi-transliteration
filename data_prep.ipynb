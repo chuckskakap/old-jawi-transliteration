{
 "cells": [
  {
   "cell_type": "code",
   "execution_count": 1,
   "metadata": {},
   "outputs": [],
   "source": [
    "with open('NirnamaRumiClean.txt', 'r', encoding='utf-8') as file:\n",
    "    # Input text\n",
    "    rumi_text = file.read()\n",
    "\n",
    "# Remove \\n and \\t characters\n",
    "rumi_clean_text = rumi_text.replace('\\n', ' ').replace('\\t', ' ').replace(\"***\", \"\").replace('“', \"\").replace('”', \"\").replace('’’', \"\").replace('\"', \"\").replace(',', \"\").replace('!', \"\").replace('?', \"\").replace('’', \"\").replace('‘', \"\")\n",
    "\n",
    "# Split text into rumi_sentences using period as a delimiter\n",
    "rumi_sentences = rumi_clean_text.split('.')\n",
    "\n",
    "# Append period and \\n at the end of each sentence\n",
    "rumi_sentences_new_line = [(sentence.strip() + '\\n') for sentence in rumi_sentences if sentence.strip()]\n",
    "\n",
    "# Write the rumi_sentences to a text file\n",
    "with open('RumiClean.txt', 'w', encoding='utf-8') as file:\n",
    "    file.writelines(rumi_sentences_new_line)\n"
   ]
  },
  {
   "cell_type": "code",
   "execution_count": 14,
   "metadata": {},
   "outputs": [],
   "source": [
    "with open('NirnamaJawiClean.txt', 'r', encoding='utf-8') as file:\n",
    "    # Input text\n",
    "    jawi_text = file.read()\n",
    "\n",
    "# Remove \\n and \\t characters\n",
    "jawi_clean_text = jawi_text.replace('\\n', ' ').replace('\\t', ' ').replace(\"***\", \"\").replace('“', \"\").replace('”', \"\").replace('’’', \"\").replace('\"', \"\").replace('،', \"\").replace('!', \"\").replace('؟', \"\")\n",
    "\n",
    "# Split text into sentences using period as a delimiter\n",
    "jawi_sentences = jawi_clean_text.split('.')\n",
    "\n",
    "# Append period and \\n at the end of each sentence\n",
    "jawi_sentences_with_newline = [( sentence.strip() + '\\n') for sentence in jawi_sentences if sentence.strip()]\n",
    "\n",
    "# Write the sentences to a text file\n",
    "with open('JawiClean.txt', 'w', encoding='utf-8') as file:\n",
    "    file.writelines(jawi_sentences_with_newline)"
   ]
  },
  {
   "cell_type": "code",
   "execution_count": 11,
   "metadata": {},
   "outputs": [],
   "source": [
    "# with open('JawiClean.txt', 'r', encoding='utf-8') as jawi_file, \\\n",
    "#      open('RumiClean.txt', 'r', encoding='utf-8') as romanized_file, \\\n",
    "#      open('JawiRumiCombined.txt', 'w', encoding='utf-8') as combined_file:\n",
    "\n",
    "#     # Read the lines from both files\n",
    "#     romanized_lines = romanized_file.readlines()\n",
    "#     jawi_lines = jawi_file.readlines()\n",
    "\n",
    "#     # Iterate over the lines and write them side by side with a space separator\n",
    "#     for  jawi_line, romanized_line in zip( jawi_lines, romanized_lines):\n",
    "#         combined_line = f\"{romanized_line.strip()} \\t {jawi_line.strip()}\\n\"\n",
    "#         combined_file.write(combined_line)"
   ]
  },
  {
   "cell_type": "code",
   "execution_count": 15,
   "metadata": {},
   "outputs": [],
   "source": [
    "with open('JawiClean.txt', 'r', encoding='utf-8') as jawi_file, \\\n",
    "     open('RumiClean.txt', 'r', encoding='utf-8') as romanized_file, \\\n",
    "     open('jawi-rumi.txt', 'w', encoding='utf-8') as combined_file:\n",
    "\n",
    "    # Read the lines from both files\n",
    "    romanized_lines = romanized_file.readlines()\n",
    "    jawi_lines = jawi_file.readlines()\n",
    "\n",
    "    # Create a list of tuples with line length and the lines\n",
    "    lines_with_length = [(len(jawi_line), jawi_line, romanized_line) for jawi_line, romanized_line in zip(jawi_lines, romanized_lines)]\n",
    "\n",
    "    # Sort the list based on the length of lines\n",
    "    lines_with_length.sort(key=lambda x: x[0])\n",
    "\n",
    "    # Iterate over the sorted lines and write them to the output file\n",
    "    for length, jawi_line, romanized_line in lines_with_length:\n",
    "        combined_line = f\" {jawi_line.strip()} \\t {romanized_line.strip()}\\n\"\n",
    "        combined_file.write(combined_line)"
   ]
  }
 ],
 "metadata": {
  "kernelspec": {
   "display_name": ".venv",
   "language": "python",
   "name": "python3"
  },
  "language_info": {
   "codemirror_mode": {
    "name": "ipython",
    "version": 3
   },
   "file_extension": ".py",
   "mimetype": "text/x-python",
   "name": "python",
   "nbconvert_exporter": "python",
   "pygments_lexer": "ipython3",
   "version": "3.10.4"
  },
  "orig_nbformat": 4
 },
 "nbformat": 4,
 "nbformat_minor": 2
}
